{
 "cells": [
  {
   "cell_type": "markdown",
   "metadata": {
    "id": "csfcA-AFVAGP"
   },
   "source": [
    "Emerging Methods For Early Detection Of Forest Fires"
   ]
  },
  {
   "cell_type": "markdown",
   "metadata": {
    "id": "csfcA-AFVAGP"
   },
   "source": [
    "Project Development Phase "
   ]
  },
  {
   "cell_type": "markdown",
   "metadata": {
    "id": "Wl133-jYVB7o"
   },
   "source": [
    "Sprint 4"
   ]
  },
  {
   "cell_type": "markdown",
   "metadata": {
    "id": "A3S5qEZ82XHn"
   },
   "source": [
    "Team ID:PNT2022TMID46260"
   ]
  },
  {
   "cell_type": "markdown",
   "metadata": {
    "id": "EP4Pat6-VGCn"
   },
   "source": [
    "Date: 17/11/2022"
   ]
  },
  {
   "cell_type": "markdown",
   "metadata": {
    "id": "Yq7MBIMzxa46"
   },
   "source": [
    "**Importing The ImageDataGenerator Library**"
   ]
  },
  {
   "cell_type": "code",
   "execution_count": 89,
   "metadata": {},
   "outputs": [],
   "source": [
    "\n",
    "import os, types\n",
    "import pandas as pd\n",
    "from botocore.client import Config\n",
    "import ibm_boto3\n",
    "\n",
    "def __iter__(self): return 0\n",
    "\n",
    "# @hidden_cell\n",
    "# The following code accesses a file in your IBM Cloud Object Storage. It includes your credentials.\n",
    "# You might want to remove those credentials before you share the notebook.\n",
    "cos_client = ibm_boto3.client(service_name='s3',\n",
    "    ibm_api_key_id='QVsKoX6yNRLn8Qv_RWlO4N-PlH8ddMdZyPPjLiIW1oz6',\n",
    "    ibm_auth_endpoint=\"https://iam.cloud.ibm.com/oidc/token\",\n",
    "    config=Config(signature_version='oauth'),\n",
    "    endpoint_url='https://s3.private.us.cloud-object-storage.appdomain.cloud')\n",
    "\n",
    "bucket = 'imageclassification-donotdelete-pr-ncc5wgfie3fmsd'\n",
    "object_key = 'Dataset.zip'\n",
    "\n",
    "streaming_body_2 = cos_client.get_object(Bucket=bucket, Key=object_key)['Body']\n",
    "\n",
    "# Your data file was loaded into a botocore.response.StreamingBody object.\n",
    "# Please read the documentation of ibm_boto3 and pandas to learn more about the possibilities to load the data.\n",
    "# ibm_boto3 documentation: https://ibm.github.io/ibm-cos-sdk-python/\n",
    "# pandas documentation: http://pandas.pydata.org/\n"
   ]
  },
  {
   "cell_type": "code",
   "execution_count": 90,
   "metadata": {},
   "outputs": [],
   "source": [
    "from io import BytesIO\n",
    "import zipfile\n",
    "unzip=zipfile.ZipFile(BytesIO(streaming_body_2.read()),'r')\n",
    "file_paths=unzip.namelist()\n",
    "for path in file_paths:\n",
    "    unzip.extract(path)"
   ]
  },
  {
   "cell_type": "code",
   "execution_count": 91,
   "metadata": {},
   "outputs": [
    {
     "data": {
      "text/plain": [
       "'/home/wsuser/work'"
      ]
     },
     "execution_count": 91,
     "metadata": {},
     "output_type": "execute_result"
    }
   ],
   "source": [
    "pwd"
   ]
  },
  {
   "cell_type": "code",
   "execution_count": 92,
   "metadata": {},
   "outputs": [],
   "source": [
    "import os\n",
    "filenames=os.listdir('/home/wsuser/work/Dataset/train_set')"
   ]
  },
  {
   "cell_type": "code",
   "execution_count": 93,
   "metadata": {
    "colab": {
     "base_uri": "https://localhost:8080/"
    },
    "id": "TwbVY9ldxT5E",
    "outputId": "43d2dd9f-712c-459a-99cf-a7af22754979"
   },
   "outputs": [
    {
     "name": "stdout",
     "output_type": "stream",
     "text": [
      "\u001b[31mERROR: Could not find a version that satisfies the requirement libgl1-mesa-dev (from versions: none)\u001b[0m\r\n",
      "\u001b[31mERROR: No matching distribution found for libgl1-mesa-dev\u001b[0m\r\n"
     ]
    }
   ],
   "source": [
    "!pip install libgl1-mesa-dev\n",
    "import tensorflow as tf\n",
    "import numpy as np\n",
    "from tensorflow import keras\n",
    "import os\n",
    "from tensorflow.keras.preprocessing.image import ImageDataGenerator\n",
    "from tensorflow.keras.preprocessing import image"
   ]
  },
  {
   "cell_type": "markdown",
   "metadata": {
    "id": "449Gl96Uxb3j"
   },
   "source": [
    "**Define the parameters/arguments for ImageDataGenerator class**"
   ]
  },
  {
   "cell_type": "code",
   "execution_count": 94,
   "metadata": {
    "id": "7E0B6ZFCxcAC"
   },
   "outputs": [],
   "source": [
    "train=ImageDataGenerator(rescale=1./255,\n",
    "                                 shear_range=0.2,\n",
    "                                 rotation_range=180,\n",
    "                                 zoom_range=0.2,\n",
    "                                 horizontal_flip=True)\n",
    "train = ImageDataGenerator(rescale=1/255)\n",
    "test = ImageDataGenerator(rescale=1/255)"
   ]
  },
  {
   "cell_type": "markdown",
   "metadata": {
    "id": "Ceh_nXLHxcId"
   },
   "source": [
    "**Applying ImageDataGenerator functionality to trainset**"
   ]
  },
  {
   "cell_type": "code",
   "execution_count": 95,
   "metadata": {
    "colab": {
     "base_uri": "https://localhost:8080/"
    },
    "id": "C5FSZ_KnxcQW",
    "outputId": "64938331-f0ea-4275-864d-964b0e844ee3"
   },
   "outputs": [
    {
     "name": "stdout",
     "output_type": "stream",
     "text": [
      "Found 436 images belonging to 2 classes.\n"
     ]
    }
   ],
   "source": [
    "x_train = train.flow_from_directory(\"/home/wsuser/work/Dataset/train_set\",\n",
    "                                          target_size=(64,64),\n",
    "                                          batch_size = 32,\n",
    "                                          class_mode = 'binary' )"
   ]
  },
  {
   "cell_type": "markdown",
   "metadata": {
    "id": "dRHL_n10yDdC"
   },
   "source": [
    "**Applying ImageDataGenerator functionality to testset**"
   ]
  },
  {
   "cell_type": "code",
   "execution_count": 96,
   "metadata": {
    "colab": {
     "base_uri": "https://localhost:8080/"
    },
    "id": "D7_3jdIqxzhv",
    "outputId": "e4ceb31d-8ca2-4998-94af-342ff5150370"
   },
   "outputs": [
    {
     "name": "stdout",
     "output_type": "stream",
     "text": [
      "Found 121 images belonging to 2 classes.\n"
     ]
    }
   ],
   "source": [
    "x_test = test.flow_from_directory(\"/home/wsuser/work/Dataset/test_set\",\n",
    "                                          target_size=(64,64),\n",
    "                                          batch_size = 32,\n",
    "                                          class_mode = 'binary' )"
   ]
  },
  {
   "cell_type": "code",
   "execution_count": 97,
   "metadata": {
    "colab": {
     "base_uri": "https://localhost:8080/"
    },
    "id": "jBBHuRv3DpBY",
    "outputId": "224f2168-a6b7-42f8-cede-5b24f72aa955"
   },
   "outputs": [
    {
     "data": {
      "text/plain": [
       "{'forest': 0, 'with fire': 1}"
      ]
     },
     "execution_count": 97,
     "metadata": {},
     "output_type": "execute_result"
    }
   ],
   "source": [
    "x_test.class_indices"
   ]
  },
  {
   "cell_type": "markdown",
   "metadata": {
    "id": "6fbxEKhryYhE"
   },
   "source": [
    "**Import model building libraries**"
   ]
  },
  {
   "cell_type": "code",
   "execution_count": 98,
   "metadata": {
    "id": "6RuPf8_ZyYoc"
   },
   "outputs": [],
   "source": [
    "#to define linear initialisation import sequential\n",
    "from keras.models import Sequential\n",
    "#to add layer import Dense\n",
    "from keras.layers import Dense\n",
    "#to create convolution kernel import convolution2D\n",
    "from keras.layers import Convolution2D\n",
    "#import Maxpooling layer\n",
    "from keras.layers import MaxPooling2D\n",
    "#import flatten layer\n",
    "from keras.layers import Flatten\n",
    "import warnings\n",
    "warnings.filterwarnings('ignore')\n"
   ]
  },
  {
   "cell_type": "markdown",
   "metadata": {
    "id": "-v8KAP49ysom"
   },
   "source": [
    "**Initializing the model**"
   ]
  },
  {
   "cell_type": "code",
   "execution_count": 99,
   "metadata": {
    "id": "DvWAyoLLysza"
   },
   "outputs": [],
   "source": [
    "model =Sequential()"
   ]
  },
  {
   "cell_type": "markdown",
   "metadata": {
    "id": "luqIqx4zyykT"
   },
   "source": [
    "**Add CNN Layer**"
   ]
  },
  {
   "cell_type": "code",
   "execution_count": 100,
   "metadata": {
    "id": "XsWT_D1iyyVr"
   },
   "outputs": [],
   "source": [
    "model.add(Convolution2D(32,(3,3),input_shape=(64,64,3),activation='relu'))\n",
    "#add maxpooling layers\n",
    "model.add(MaxPooling2D(pool_size=(2,2)))\n",
    "#add faltten layer\n",
    "model.add(Flatten())"
   ]
  },
  {
   "cell_type": "markdown",
   "metadata": {
    "id": "wx8nTNr9zTgl"
   },
   "source": [
    "**Add Hidden Layer**"
   ]
  },
  {
   "cell_type": "code",
   "execution_count": 101,
   "metadata": {
    "id": "o3PiIaCRzRbx"
   },
   "outputs": [],
   "source": [
    "#add hidden layers\n",
    "model.add(Dense(150,activation='relu'))\n",
    "#add output layer\n",
    "model.add(Dense(1,activation='sigmoid'))"
   ]
  },
  {
   "cell_type": "markdown",
   "metadata": {
    "id": "Q0hbp_tQzY5o"
   },
   "source": [
    "**Configure the learning process**"
   ]
  },
  {
   "cell_type": "code",
   "execution_count": 102,
   "metadata": {
    "id": "7QHmgxsyzZIn"
   },
   "outputs": [],
   "source": [
    "model.compile(loss = 'binary_crossentropy',\n",
    "              optimizer = \"adam\",\n",
    "              metrics = [\"accuracy\"])"
   ]
  },
  {
   "cell_type": "markdown",
   "metadata": {
    "id": "0OPIh_g-zhpc"
   },
   "source": [
    "**Train the model**"
   ]
  },
  {
   "cell_type": "code",
   "execution_count": 103,
   "metadata": {
    "colab": {
     "base_uri": "https://localhost:8080/"
    },
    "id": "dbRjnLDAzkxm",
    "outputId": "c7d1a118-5217-4a87-c8cb-c10c4bb2de8b"
   },
   "outputs": [
    {
     "name": "stdout",
     "output_type": "stream",
     "text": [
      "Epoch 1/5\n",
      "14/14 [==============================] - ETA: 0s - loss: 0.7689 - accuracy: 0.6628WARNING:tensorflow:Your input ran out of data; interrupting training. Make sure that your dataset or generator can generate at least `steps_per_epoch * epochs` batches (in this case, 20 batches). You may need to use the repeat() function when building your dataset.\n",
      "14/14 [==============================] - 21s 1s/step - loss: 0.7689 - accuracy: 0.6628 - val_loss: 0.3151 - val_accuracy: 0.8678\n",
      "Epoch 2/5\n",
      "14/14 [==============================] - 15s 1s/step - loss: 0.2759 - accuracy: 0.8853\n",
      "Epoch 3/5\n",
      "14/14 [==============================] - 14s 1s/step - loss: 0.1619 - accuracy: 0.9472\n",
      "Epoch 4/5\n",
      "14/14 [==============================] - 14s 1s/step - loss: 0.1192 - accuracy: 0.9541\n",
      "Epoch 5/5\n",
      "14/14 [==============================] - 14s 1s/step - loss: 0.1087 - accuracy: 0.9633\n"
     ]
    },
    {
     "data": {
      "text/plain": [
       "<keras.callbacks.History at 0x7f983efffdc0>"
      ]
     },
     "execution_count": 103,
     "metadata": {},
     "output_type": "execute_result"
    }
   ],
   "source": [
    "model.fit_generator(x_train,steps_per_epoch=14,epochs=5,validation_data=x_test,validation_steps=20)"
   ]
  },
  {
   "cell_type": "markdown",
   "metadata": {
    "id": "ExX269AR2OJO"
   },
   "source": [
    "**Save The Model**"
   ]
  },
  {
   "cell_type": "code",
   "execution_count": 104,
   "metadata": {
    "id": "r_HNZErV2NPz"
   },
   "outputs": [],
   "source": [
    "model.save(\"/home/wsuser/work/archive(1)/forest1.h5\")"
   ]
  },
  {
   "cell_type": "markdown",
   "metadata": {
    "id": "_KL58pMT2TR2"
   },
   "source": [
    "**Predictions**"
   ]
  },
  {
   "cell_type": "code",
   "execution_count": 105,
   "metadata": {
    "colab": {
     "base_uri": "https://localhost:8080/"
    },
    "id": "VvL9NobDFb3S",
    "outputId": "9de618a1-dc39-4a3c-bc99-c91bc32be55a"
   },
   "outputs": [],
   "source": [
    "predictions = model.predict(x_test)\n",
    "predictions = np.round(predictions)"
   ]
  },
  {
   "cell_type": "code",
   "execution_count": 106,
   "metadata": {
    "colab": {
     "base_uri": "https://localhost:8080/"
    },
    "id": "7AnrD-e9Fc5f",
    "outputId": "75cd3032-d23e-4de9-95e1-fd88b88a38f6"
   },
   "outputs": [
    {
     "data": {
      "text/plain": [
       "array([[1.],\n",
       "       [1.],\n",
       "       [1.],\n",
       "       [0.],\n",
       "       [1.],\n",
       "       [1.],\n",
       "       [1.],\n",
       "       [0.],\n",
       "       [1.],\n",
       "       [0.],\n",
       "       [1.],\n",
       "       [0.],\n",
       "       [1.],\n",
       "       [0.],\n",
       "       [0.],\n",
       "       [1.],\n",
       "       [1.],\n",
       "       [0.],\n",
       "       [1.],\n",
       "       [1.],\n",
       "       [0.],\n",
       "       [1.],\n",
       "       [1.],\n",
       "       [1.],\n",
       "       [1.],\n",
       "       [1.],\n",
       "       [0.],\n",
       "       [1.],\n",
       "       [0.],\n",
       "       [1.],\n",
       "       [0.],\n",
       "       [0.],\n",
       "       [1.],\n",
       "       [1.],\n",
       "       [0.],\n",
       "       [0.],\n",
       "       [0.],\n",
       "       [0.],\n",
       "       [0.],\n",
       "       [0.],\n",
       "       [0.],\n",
       "       [0.],\n",
       "       [0.],\n",
       "       [0.],\n",
       "       [1.],\n",
       "       [0.],\n",
       "       [1.],\n",
       "       [0.],\n",
       "       [0.],\n",
       "       [0.],\n",
       "       [0.],\n",
       "       [1.],\n",
       "       [0.],\n",
       "       [0.],\n",
       "       [0.],\n",
       "       [0.],\n",
       "       [1.],\n",
       "       [1.],\n",
       "       [0.],\n",
       "       [0.],\n",
       "       [0.],\n",
       "       [0.],\n",
       "       [0.],\n",
       "       [1.],\n",
       "       [0.],\n",
       "       [0.],\n",
       "       [1.],\n",
       "       [0.],\n",
       "       [0.],\n",
       "       [0.],\n",
       "       [0.],\n",
       "       [0.],\n",
       "       [0.],\n",
       "       [0.],\n",
       "       [1.],\n",
       "       [1.],\n",
       "       [1.],\n",
       "       [0.],\n",
       "       [0.],\n",
       "       [1.],\n",
       "       [1.],\n",
       "       [0.],\n",
       "       [0.],\n",
       "       [0.],\n",
       "       [1.],\n",
       "       [0.],\n",
       "       [1.],\n",
       "       [0.],\n",
       "       [0.],\n",
       "       [0.],\n",
       "       [1.],\n",
       "       [1.],\n",
       "       [1.],\n",
       "       [0.],\n",
       "       [0.],\n",
       "       [0.],\n",
       "       [0.],\n",
       "       [0.],\n",
       "       [0.],\n",
       "       [0.],\n",
       "       [1.],\n",
       "       [0.],\n",
       "       [0.],\n",
       "       [0.],\n",
       "       [1.],\n",
       "       [1.],\n",
       "       [1.],\n",
       "       [0.],\n",
       "       [0.],\n",
       "       [1.],\n",
       "       [0.],\n",
       "       [1.],\n",
       "       [0.],\n",
       "       [0.],\n",
       "       [1.],\n",
       "       [1.],\n",
       "       [0.],\n",
       "       [0.],\n",
       "       [0.],\n",
       "       [0.],\n",
       "       [1.]], dtype=float32)"
      ]
     },
     "execution_count": 106,
     "metadata": {},
     "output_type": "execute_result"
    }
   ],
   "source": [
    "predictions"
   ]
  },
  {
   "cell_type": "code",
   "execution_count": 107,
   "metadata": {
    "colab": {
     "base_uri": "https://localhost:8080/"
    },
    "id": "PYFNH2wjFkUf",
    "outputId": "cd32efd4-8b2a-4875-fb5f-5b55515d3e85"
   },
   "outputs": [
    {
     "name": "stdout",
     "output_type": "stream",
     "text": [
      "121\n"
     ]
    }
   ],
   "source": [
    "print(len(predictions))"
   ]
  },
  {
   "cell_type": "code",
   "execution_count": 108,
   "metadata": {
    "id": "ox8-VE8bGCbs"
   },
   "outputs": [],
   "source": [
    "#import load_model from keras.model\n",
    "from keras.models import load_model\n",
    "#import image class from keras\n",
    "import tensorflow as tf\n",
    "from tensorflow.keras.preprocessing import image\n",
    "#import numpy\n",
    "import numpy as np\n",
    "#import cv2"
   ]
  },
  {
   "cell_type": "code",
   "execution_count": 109,
   "metadata": {
    "id": "lTQgwI0x4coy"
   },
   "outputs": [],
   "source": [
    "#load the saved model\n",
    "model = load_model(\"/home/wsuser/work/archive(1)/forest1.h5\")"
   ]
  },
  {
   "cell_type": "code",
   "execution_count": 110,
   "metadata": {
    "id": "iD7BChtG2Tad"
   },
   "outputs": [],
   "source": [
    "def predictImage(filename):\n",
    "  img1 = image.load_img(filename,target_size=(64,64))\n",
    "  Y = image.img_to_array(img1)\n",
    "  X = np.expand_dims(Y,axis=0)\n",
    "  val = model.predict(X)\n",
    "  print(val)\n",
    "  if val == 1:\n",
    "    print(\" fire\")\n",
    "  elif val == 0:\n",
    "      print(\"no fire\")"
   ]
  },
  {
   "cell_type": "code",
   "execution_count": 111,
   "metadata": {
    "colab": {
     "base_uri": "https://localhost:8080/"
    },
    "id": "YfvDp7BZ4n41",
    "outputId": "91a837a5-84f8-4c00-f195-bf7bf9d86c46"
   },
   "outputs": [
    {
     "name": "stdout",
     "output_type": "stream",
     "text": [
      "WARNING:tensorflow:5 out of the last 12 calls to <function Model.make_predict_function.<locals>.predict_function at 0x7f984fe019d0> triggered tf.function retracing. Tracing is expensive and the excessive number of tracings could be due to (1) creating @tf.function repeatedly in a loop, (2) passing tensors with different shapes, (3) passing Python objects instead of tensors. For (1), please define your @tf.function outside of the loop. For (2), @tf.function has experimental_relax_shapes=True option that relaxes argument shapes that can avoid unnecessary retracing. For (3), please refer to https://www.tensorflow.org/guide/function#controlling_retracing and https://www.tensorflow.org/api_docs/python/tf/function for  more details.\n",
      "[[1.]]\n",
      " fire\n"
     ]
    }
   ],
   "source": [
    "predictImage(\"/home/wsuser/work/Dataset/test_set/with fire/19464620_401.jpg\")"
   ]
  },
  {
   "cell_type": "markdown",
   "metadata": {
    "id": "04yUI690RnsG"
   },
   "source": [
    "**OpenCV For Video Processing**"
   ]
  },
  {
   "cell_type": "code",
   "execution_count": 75,
   "metadata": {
    "colab": {
     "base_uri": "https://localhost:8080/"
    },
    "id": "fxZA6EXlSwz1",
    "outputId": "6d3857bc-6a05-4331-b4e7-7a32c9b5f10b"
   },
   "outputs": [
    {
     "name": "stdout",
     "output_type": "stream",
     "text": [
      "Collecting twilio\n",
      "  Downloading twilio-7.15.2-py2.py3-none-any.whl (1.4 MB)\n",
      "\u001b[K     |████████████████████████████████| 1.4 MB 16.7 MB/s eta 0:00:01\n",
      "\u001b[?25hRequirement already satisfied: requests>=2.0.0 in /opt/conda/envs/Python-3.9/lib/python3.9/site-packages (from twilio) (2.26.0)\n",
      "Requirement already satisfied: PyJWT<3.0.0,>=2.0.0 in /opt/conda/envs/Python-3.9/lib/python3.9/site-packages (from twilio) (2.4.0)\n",
      "Requirement already satisfied: pytz in /opt/conda/envs/Python-3.9/lib/python3.9/site-packages (from twilio) (2021.3)\n",
      "Requirement already satisfied: idna<4,>=2.5 in /opt/conda/envs/Python-3.9/lib/python3.9/site-packages (from requests>=2.0.0->twilio) (3.3)\n",
      "Requirement already satisfied: certifi>=2017.4.17 in /opt/conda/envs/Python-3.9/lib/python3.9/site-packages (from requests>=2.0.0->twilio) (2022.9.24)\n",
      "Requirement already satisfied: urllib3<1.27,>=1.21.1 in /opt/conda/envs/Python-3.9/lib/python3.9/site-packages (from requests>=2.0.0->twilio) (1.26.7)\n",
      "Requirement already satisfied: charset-normalizer~=2.0.0 in /opt/conda/envs/Python-3.9/lib/python3.9/site-packages (from requests>=2.0.0->twilio) (2.0.4)\n",
      "Installing collected packages: twilio\n",
      "Successfully installed twilio-7.15.2\n",
      "Note: you may need to restart the kernel to use updated packages.\n"
     ]
    }
   ],
   "source": [
    "pip install twilio"
   ]
  },
  {
   "cell_type": "code",
   "execution_count": 76,
   "metadata": {
    "colab": {
     "base_uri": "https://localhost:8080/"
    },
    "id": "BaBErYAnTiEz",
    "outputId": "c20aca5f-365e-488f-af11-29ddfd916f5c"
   },
   "outputs": [
    {
     "name": "stdout",
     "output_type": "stream",
     "text": [
      "Collecting playsound\n",
      "  Downloading playsound-1.3.0.tar.gz (7.7 kB)\n",
      "Building wheels for collected packages: playsound\n",
      "  Building wheel for playsound (setup.py) ... \u001b[?25ldone\n",
      "\u001b[?25h  Created wheel for playsound: filename=playsound-1.3.0-py3-none-any.whl size=7037 sha256=7a14e5d7212967bf1952d7558b36640342f7d1b687b5aa9dc5b0e950f2e73b31\n",
      "  Stored in directory: /tmp/wsuser/.cache/pip/wheels/ba/39/54/c8f7ff9a88a644d3c58b4dec802d90b79a2e0fb2a6b884bf82\n",
      "Successfully built playsound\n",
      "Installing collected packages: playsound\n",
      "Successfully installed playsound-1.3.0\n",
      "Note: you may need to restart the kernel to use updated packages.\n"
     ]
    }
   ],
   "source": [
    "pip install playsound"
   ]
  },
  {
   "cell_type": "code",
   "execution_count": 112,
   "metadata": {
    "colab": {
     "base_uri": "https://localhost:8080/"
    },
    "id": "7L62aA2PRtYP",
    "outputId": "0dd94c52-9292-4f6e-dbee-f42f3d06891c"
   },
   "outputs": [],
   "source": [
    "#import opencv librariy\n",
    "#import cv2\n",
    "#import numpy\n",
    "import numpy as np\n",
    "#import image function from keras\n",
    "from keras.preprocessing import image\n",
    "#import load_model from keras\n",
    "from keras.models import load_model\n",
    "#import client from twilio API\n",
    "from twilio.rest import Client\n",
    "#imort playsound package\n",
    "from playsound import playsound"
   ]
  },
  {
   "cell_type": "code",
   "execution_count": 113,
   "metadata": {
    "id": "RSpgSxcqRzlq"
   },
   "outputs": [],
   "source": [
    "#load the saved model\n",
    "model = load_model(r'/home/wsuser/work/archive(1)/forest1.h5')\n",
    "#define the features\n",
    "name = ['forest','with forest']"
   ]
  },
  {
   "cell_type": "markdown",
   "metadata": {
    "id": "MTM13j_r1EYK"
   },
   "source": [
    "**Creating An Account In Twilio Service**"
   ]
  },
  {
   "cell_type": "code",
   "execution_count": 114,
   "metadata": {
    "colab": {
     "base_uri": "https://localhost:8080/"
    },
    "id": "0_xBHZr61Dq4",
    "outputId": "82acf279-f65b-4bc0-b79b-d1721c268441"
   },
   "outputs": [
    {
     "name": "stdout",
     "output_type": "stream",
     "text": [
      "SMfa58e2bf0ede24f765cd7bc345ca795d\n"
     ]
    }
   ],
   "source": [
    "account_sid='ACfb4e6d0e7b0d25def63044919f1b96e3'\n",
    "auth_token='f9ae4fc4a617a527da8672e97eefb2d8'\n",
    "client=Client(account_sid,auth_token)\n",
    "message=client.messages \\\n",
    ".create(\n",
    "      body='Forest Fire is detected, stay alert',\n",
    "      from_='+1 302 248 4366',\n",
    "      to='+91 99400 12164'\n",
    ")\n",
    "print(message.sid)"
   ]
  },
  {
   "cell_type": "markdown",
   "metadata": {
    "id": "eepAGlEy8SVj"
   },
   "source": [
    "**Sending Alert Message**"
   ]
  },
  {
   "cell_type": "code",
   "execution_count": 81,
   "metadata": {
    "colab": {
     "base_uri": "https://localhost:8080/"
    },
    "id": "SEI2EaSiHx-E",
    "outputId": "24ce8006-be45-431f-a769-c7a1e3e58103"
   },
   "outputs": [
    {
     "name": "stdout",
     "output_type": "stream",
     "text": [
      "Collecting pygobject\n",
      "  Downloading PyGObject-3.42.2.tar.gz (719 kB)\n",
      "\u001b[K     |████████████████████████████████| 719 kB 9.3 MB/s eta 0:00:01\n",
      "\u001b[?25h  Installing build dependencies ... \u001b[?25lerror\n",
      "\u001b[31m  ERROR: Command errored out with exit status 1:\n",
      "   command: /opt/conda/envs/Python-3.9/bin/python /tmp/wsuser/pip-standalone-pip-emeystgt/__env_pip__.zip/pip install --ignore-installed --no-user --prefix /tmp/wsuser/pip-build-env-lkmf16by/overlay --no-warn-script-location --no-binary :none: --only-binary :none: -i https://pypi.org/simple -- setuptools wheel pycairo\n",
      "       cwd: None\n",
      "  Complete output (38 lines):\n",
      "  Collecting setuptools\n",
      "    Downloading setuptools-65.5.1-py3-none-any.whl (1.2 MB)\n",
      "  Collecting wheel\n",
      "    Downloading wheel-0.38.4-py3-none-any.whl (36 kB)\n",
      "  Collecting pycairo\n",
      "    Downloading pycairo-1.21.0.tar.gz (340 kB)\n",
      "    Installing build dependencies: started\n",
      "    Installing build dependencies: finished with status 'done'\n",
      "    Getting requirements to build wheel: started\n",
      "    Getting requirements to build wheel: finished with status 'done'\n",
      "      Preparing wheel metadata: started\n",
      "      Preparing wheel metadata: finished with status 'done'\n",
      "  Building wheels for collected packages: pycairo\n",
      "    Building wheel for pycairo (PEP 517): started\n",
      "    Building wheel for pycairo (PEP 517): finished with status 'error'\n",
      "    ERROR: Command errored out with exit status 1:\n",
      "     command: /opt/conda/envs/Python-3.9/bin/python /tmp/wsuser/tmp6f_pv7zl_in_process.py build_wheel /tmp/wsuser/tmp9ugp5t8u\n",
      "         cwd: /tmp/wsuser/pip-install-g0nlk595/pycairo_8ee0a71e39c14024bc3c99a74592e9b4\n",
      "    Complete output (15 lines):\n",
      "    running bdist_wheel\n",
      "    running build\n",
      "    running build_py\n",
      "    creating build\n",
      "    creating build/lib.linux-x86_64-cpython-39\n",
      "    creating build/lib.linux-x86_64-cpython-39/cairo\n",
      "    copying cairo/__init__.py -> build/lib.linux-x86_64-cpython-39/cairo\n",
      "    copying cairo/__init__.pyi -> build/lib.linux-x86_64-cpython-39/cairo\n",
      "    copying cairo/py.typed -> build/lib.linux-x86_64-cpython-39/cairo\n",
      "    running build_ext\n",
      "    Package cairo was not found in the pkg-config search path.\n",
      "    Perhaps you should add the directory containing `cairo.pc'\n",
      "    to the PKG_CONFIG_PATH environment variable\n",
      "    Package 'cairo', required by 'virtual:world', not found\n",
      "    Command '['pkg-config', '--print-errors', '--exists', 'cairo >= 1.15.10']' returned non-zero exit status 1.\n",
      "    ----------------------------------------\n",
      "    ERROR: Failed building wheel for pycairo\n",
      "  Failed to build pycairo\n",
      "  ERROR: Could not build wheels for pycairo which use PEP 517 and cannot be installed directly\n",
      "  ----------------------------------------\u001b[0m\n",
      "\u001b[33mWARNING: Discarding https://files.pythonhosted.org/packages/fe/40/9afaeb8d3b453fb8596fcb6c7bc2b64e434868c91eda19955742778eff74/PyGObject-3.42.2.tar.gz#sha256=21524cef33100c8fd59dc135948b703d79d303e368ce71fa60521cc971cd8aa7 (from https://pypi.org/simple/pygobject/) (requires-python:>=3.6, <4). Command errored out with exit status 1: /opt/conda/envs/Python-3.9/bin/python /tmp/wsuser/pip-standalone-pip-emeystgt/__env_pip__.zip/pip install --ignore-installed --no-user --prefix /tmp/wsuser/pip-build-env-lkmf16by/overlay --no-warn-script-location --no-binary :none: --only-binary :none: -i https://pypi.org/simple -- setuptools wheel pycairo Check the logs for full command output.\u001b[0m\n",
      "\u001b[?25h  Downloading PyGObject-3.42.1.tar.gz (718 kB)\n",
      "\u001b[K     |████████████████████████████████| 718 kB 51.7 MB/s eta 0:00:01\n",
      "\u001b[?25h  Installing build dependencies ... \u001b[?25lerror\n",
      "\u001b[31m  ERROR: Command errored out with exit status 1:\n",
      "   command: /opt/conda/envs/Python-3.9/bin/python /tmp/wsuser/pip-standalone-pip-nxupggha/__env_pip__.zip/pip install --ignore-installed --no-user --prefix /tmp/wsuser/pip-build-env-q_zdbpt2/overlay --no-warn-script-location --no-binary :none: --only-binary :none: -i https://pypi.org/simple -- setuptools wheel pycairo\n",
      "       cwd: None\n",
      "  Complete output (38 lines):\n",
      "  Collecting setuptools\n",
      "    Using cached setuptools-65.5.1-py3-none-any.whl (1.2 MB)\n",
      "  Collecting wheel\n",
      "    Using cached wheel-0.38.4-py3-none-any.whl (36 kB)\n",
      "  Collecting pycairo\n",
      "    Using cached pycairo-1.21.0.tar.gz (340 kB)\n",
      "    Installing build dependencies: started\n",
      "    Installing build dependencies: finished with status 'done'\n",
      "    Getting requirements to build wheel: started\n",
      "    Getting requirements to build wheel: finished with status 'done'\n",
      "      Preparing wheel metadata: started\n",
      "      Preparing wheel metadata: finished with status 'done'\n",
      "  Building wheels for collected packages: pycairo\n",
      "    Building wheel for pycairo (PEP 517): started\n",
      "    Building wheel for pycairo (PEP 517): finished with status 'error'\n",
      "    ERROR: Command errored out with exit status 1:\n",
      "     command: /opt/conda/envs/Python-3.9/bin/python /tmp/wsuser/tmp500lv4hx_in_process.py build_wheel /tmp/wsuser/tmppdsziofg\n",
      "         cwd: /tmp/wsuser/pip-install-oav7v438/pycairo_82221e31165f4f099211c145cc82388b\n",
      "    Complete output (15 lines):\n",
      "    running bdist_wheel\n",
      "    running build\n",
      "    running build_py\n",
      "    creating build\n",
      "    creating build/lib.linux-x86_64-cpython-39\n",
      "    creating build/lib.linux-x86_64-cpython-39/cairo\n",
      "    copying cairo/__init__.py -> build/lib.linux-x86_64-cpython-39/cairo\n",
      "    copying cairo/__init__.pyi -> build/lib.linux-x86_64-cpython-39/cairo\n",
      "    copying cairo/py.typed -> build/lib.linux-x86_64-cpython-39/cairo\n",
      "    running build_ext\n",
      "    Package cairo was not found in the pkg-config search path.\n",
      "    Perhaps you should add the directory containing `cairo.pc'\n",
      "    to the PKG_CONFIG_PATH environment variable\n",
      "    Package 'cairo', required by 'virtual:world', not found\n",
      "    Command '['pkg-config', '--print-errors', '--exists', 'cairo >= 1.15.10']' returned non-zero exit status 1.\n",
      "    ----------------------------------------\n",
      "    ERROR: Failed building wheel for pycairo\n",
      "  Failed to build pycairo\n",
      "  ERROR: Could not build wheels for pycairo which use PEP 517 and cannot be installed directly\n",
      "  ----------------------------------------\u001b[0m\n",
      "\u001b[33mWARNING: Discarding https://files.pythonhosted.org/packages/41/d0/7eaebdca0723b267b96a8b7de2743cc223fbb47f651346b3e9b768acf8dd/PyGObject-3.42.1.tar.gz#sha256=80d6a3ad1630e9d1edf31b9e9fad9a894c57e18545a3c95ef0044ac4042b8620 (from https://pypi.org/simple/pygobject/) (requires-python:>=3.6, <4). Command errored out with exit status 1: /opt/conda/envs/Python-3.9/bin/python /tmp/wsuser/pip-standalone-pip-nxupggha/__env_pip__.zip/pip install --ignore-installed --no-user --prefix /tmp/wsuser/pip-build-env-q_zdbpt2/overlay --no-warn-script-location --no-binary :none: --only-binary :none: -i https://pypi.org/simple -- setuptools wheel pycairo Check the logs for full command output.\u001b[0m\n",
      "\u001b[?25h  Downloading PyGObject-3.42.0.tar.gz (716 kB)\n",
      "\u001b[K     |████████████████████████████████| 716 kB 56.3 MB/s eta 0:00:01 |█████████████████████████████▊  | 665 kB 56.3 MB/s eta 0:00:01\n",
      "\u001b[?25h  Installing build dependencies ... \u001b[?25lerror\n",
      "\u001b[31m  ERROR: Command errored out with exit status 1:\n",
      "   command: /opt/conda/envs/Python-3.9/bin/python /tmp/wsuser/pip-standalone-pip-c69rxedh/__env_pip__.zip/pip install --ignore-installed --no-user --prefix /tmp/wsuser/pip-build-env-xhdcyjv_/overlay --no-warn-script-location --no-binary :none: --only-binary :none: -i https://pypi.org/simple -- setuptools wheel pycairo\n",
      "       cwd: None\n",
      "  Complete output (38 lines):\n",
      "  Collecting setuptools\n",
      "    Using cached setuptools-65.5.1-py3-none-any.whl (1.2 MB)\n",
      "  Collecting wheel\n",
      "    Using cached wheel-0.38.4-py3-none-any.whl (36 kB)\n",
      "  Collecting pycairo\n",
      "    Using cached pycairo-1.21.0.tar.gz (340 kB)\n",
      "    Installing build dependencies: started\n",
      "    Installing build dependencies: finished with status 'done'\n",
      "    Getting requirements to build wheel: started\n",
      "    Getting requirements to build wheel: finished with status 'done'\n",
      "      Preparing wheel metadata: started\n",
      "      Preparing wheel metadata: finished with status 'done'\n",
      "  Building wheels for collected packages: pycairo\n",
      "    Building wheel for pycairo (PEP 517): started\n",
      "    Building wheel for pycairo (PEP 517): finished with status 'error'\n",
      "    ERROR: Command errored out with exit status 1:\n",
      "     command: /opt/conda/envs/Python-3.9/bin/python /tmp/wsuser/tmpqje2d2h3_in_process.py build_wheel /tmp/wsuser/tmpgm5ricg_\n",
      "         cwd: /tmp/wsuser/pip-install-7lii05u2/pycairo_bd74e7eadd29426fae493791d830597a\n",
      "    Complete output (15 lines):\n",
      "    running bdist_wheel\n",
      "    running build\n",
      "    running build_py\n",
      "    creating build\n",
      "    creating build/lib.linux-x86_64-cpython-39\n",
      "    creating build/lib.linux-x86_64-cpython-39/cairo\n",
      "    copying cairo/__init__.py -> build/lib.linux-x86_64-cpython-39/cairo\n",
      "    copying cairo/__init__.pyi -> build/lib.linux-x86_64-cpython-39/cairo\n",
      "    copying cairo/py.typed -> build/lib.linux-x86_64-cpython-39/cairo\n",
      "    running build_ext\n",
      "    Package cairo was not found in the pkg-config search path.\n",
      "    Perhaps you should add the directory containing `cairo.pc'\n",
      "    to the PKG_CONFIG_PATH environment variable\n",
      "    Package 'cairo', required by 'virtual:world', not found\n",
      "    Command '['pkg-config', '--print-errors', '--exists', 'cairo >= 1.15.10']' returned non-zero exit status 1.\n",
      "    ----------------------------------------\n",
      "    ERROR: Failed building wheel for pycairo\n",
      "  Failed to build pycairo\n",
      "  ERROR: Could not build wheels for pycairo which use PEP 517 and cannot be installed directly\n",
      "  ----------------------------------------\u001b[0m\n",
      "\u001b[33mWARNING: Discarding https://files.pythonhosted.org/packages/cc/72/48cfdd7a0caf3c27f392d2657731ac6f7c3c1c0a60bfeba3e1ba9ffa7ba9/PyGObject-3.42.0.tar.gz#sha256=b9803991ec0b0b4175e81fee0ad46090fa7af438fe169348a9b18ae53447afcd (from https://pypi.org/simple/pygobject/) (requires-python:>=3.6, <4). Command errored out with exit status 1: /opt/conda/envs/Python-3.9/bin/python /tmp/wsuser/pip-standalone-pip-c69rxedh/__env_pip__.zip/pip install --ignore-installed --no-user --prefix /tmp/wsuser/pip-build-env-xhdcyjv_/overlay --no-warn-script-location --no-binary :none: --only-binary :none: -i https://pypi.org/simple -- setuptools wheel pycairo Check the logs for full command output.\u001b[0m\n",
      "\u001b[?25h  Downloading PyGObject-3.40.1.tar.gz (714 kB)\n",
      "\u001b[K     |████████████████████████████████| 714 kB 56.6 MB/s eta 0:00:01\n",
      "\u001b[?25h  Installing build dependencies ... \u001b[?25lerror\n",
      "\u001b[31m  ERROR: Command errored out with exit status 1:\n",
      "   command: /opt/conda/envs/Python-3.9/bin/python /tmp/wsuser/pip-standalone-pip-upcmrgkj/__env_pip__.zip/pip install --ignore-installed --no-user --prefix /tmp/wsuser/pip-build-env-vssdf0vc/overlay --no-warn-script-location --no-binary :none: --only-binary :none: -i https://pypi.org/simple -- setuptools wheel pycairo\n",
      "       cwd: None\n",
      "  Complete output (38 lines):\n",
      "  Collecting setuptools\n",
      "    Using cached setuptools-65.5.1-py3-none-any.whl (1.2 MB)\n",
      "  Collecting wheel\n",
      "    Using cached wheel-0.38.4-py3-none-any.whl (36 kB)\n",
      "  Collecting pycairo\n",
      "    Using cached pycairo-1.21.0.tar.gz (340 kB)\n",
      "    Installing build dependencies: started\n",
      "    Installing build dependencies: finished with status 'done'\n",
      "    Getting requirements to build wheel: started\n",
      "    Getting requirements to build wheel: finished with status 'done'\n",
      "      Preparing wheel metadata: started\n",
      "      Preparing wheel metadata: finished with status 'done'\n",
      "  Building wheels for collected packages: pycairo\n",
      "    Building wheel for pycairo (PEP 517): started\n",
      "    Building wheel for pycairo (PEP 517): finished with status 'error'\n",
      "    ERROR: Command errored out with exit status 1:\n",
      "     command: /opt/conda/envs/Python-3.9/bin/python /tmp/wsuser/tmpldzz1u7p_in_process.py build_wheel /tmp/wsuser/tmpagh8im7d\n",
      "         cwd: /tmp/wsuser/pip-install-se5z7j4o/pycairo_eda2926bd0a343d189cf6d2ff0781ed7\n",
      "    Complete output (15 lines):\n",
      "    running bdist_wheel\n",
      "    running build\n",
      "    running build_py\n",
      "    creating build\n",
      "    creating build/lib.linux-x86_64-cpython-39\n",
      "    creating build/lib.linux-x86_64-cpython-39/cairo\n",
      "    copying cairo/__init__.py -> build/lib.linux-x86_64-cpython-39/cairo\n",
      "    copying cairo/__init__.pyi -> build/lib.linux-x86_64-cpython-39/cairo\n",
      "    copying cairo/py.typed -> build/lib.linux-x86_64-cpython-39/cairo\n",
      "    running build_ext\n",
      "    Package cairo was not found in the pkg-config search path.\n",
      "    Perhaps you should add the directory containing `cairo.pc'\n",
      "    to the PKG_CONFIG_PATH environment variable\n",
      "    Package 'cairo', required by 'virtual:world', not found\n",
      "    Command '['pkg-config', '--print-errors', '--exists', 'cairo >= 1.15.10']' returned non-zero exit status 1.\n",
      "    ----------------------------------------\n",
      "    ERROR: Failed building wheel for pycairo\n",
      "  Failed to build pycairo\n",
      "  ERROR: Could not build wheels for pycairo which use PEP 517 and cannot be installed directly\n",
      "  ----------------------------------------\u001b[0m\n",
      "\u001b[33mWARNING: Discarding https://files.pythonhosted.org/packages/51/2f/4d5d5afb7000b9151e33952b59163c9389bd867ac6fe85d62f85831fa061/PyGObject-3.40.1.tar.gz#sha256=6fb599aa59ceb9dd05fafb0d72b3862943e7d5e85c8ef6c74856bc6d4321cbab (from https://pypi.org/simple/pygobject/) (requires-python:>=3.6, <4). Command errored out with exit status 1: /opt/conda/envs/Python-3.9/bin/python /tmp/wsuser/pip-standalone-pip-upcmrgkj/__env_pip__.zip/pip install --ignore-installed --no-user --prefix /tmp/wsuser/pip-build-env-vssdf0vc/overlay --no-warn-script-location --no-binary :none: --only-binary :none: -i https://pypi.org/simple -- setuptools wheel pycairo Check the logs for full command output.\u001b[0m\n",
      "\u001b[?25h  Downloading PyGObject-3.40.0.tar.gz (714 kB)\n",
      "\u001b[K     |████████████████████████████████| 714 kB 63.1 MB/s eta 0:00:01\n",
      "\u001b[?25h  Installing build dependencies ... \u001b[?25lerror\n",
      "\u001b[31m  ERROR: Command errored out with exit status 1:\n",
      "   command: /opt/conda/envs/Python-3.9/bin/python /tmp/wsuser/pip-standalone-pip-6jz5e22z/__env_pip__.zip/pip install --ignore-installed --no-user --prefix /tmp/wsuser/pip-build-env-6_7hdgvd/overlay --no-warn-script-location --no-binary :none: --only-binary :none: -i https://pypi.org/simple -- setuptools wheel pycairo\n",
      "       cwd: None\n",
      "  Complete output (38 lines):\n",
      "  Collecting setuptools\n",
      "    Using cached setuptools-65.5.1-py3-none-any.whl (1.2 MB)\n",
      "  Collecting wheel\n",
      "    Using cached wheel-0.38.4-py3-none-any.whl (36 kB)\n",
      "  Collecting pycairo\n",
      "    Using cached pycairo-1.21.0.tar.gz (340 kB)\n",
      "    Installing build dependencies: started\n",
      "    Installing build dependencies: finished with status 'done'\n",
      "    Getting requirements to build wheel: started\n",
      "    Getting requirements to build wheel: finished with status 'done'\n",
      "      Preparing wheel metadata: started\n",
      "      Preparing wheel metadata: finished with status 'done'\n",
      "  Building wheels for collected packages: pycairo\n",
      "    Building wheel for pycairo (PEP 517): started\n",
      "    Building wheel for pycairo (PEP 517): finished with status 'error'\n",
      "    ERROR: Command errored out with exit status 1:\n",
      "     command: /opt/conda/envs/Python-3.9/bin/python /tmp/wsuser/tmpevdp83t__in_process.py build_wheel /tmp/wsuser/tmpb55sh2ws\n",
      "         cwd: /tmp/wsuser/pip-install-5_zcoacc/pycairo_e5999875c1264e48b390e0d4f4eb93e5\n",
      "    Complete output (15 lines):\n",
      "    running bdist_wheel\n",
      "    running build\n",
      "    running build_py\n",
      "    creating build\n",
      "    creating build/lib.linux-x86_64-cpython-39\n",
      "    creating build/lib.linux-x86_64-cpython-39/cairo\n",
      "    copying cairo/__init__.py -> build/lib.linux-x86_64-cpython-39/cairo\n",
      "    copying cairo/__init__.pyi -> build/lib.linux-x86_64-cpython-39/cairo\n",
      "    copying cairo/py.typed -> build/lib.linux-x86_64-cpython-39/cairo\n",
      "    running build_ext\n",
      "    Package cairo was not found in the pkg-config search path.\n",
      "    Perhaps you should add the directory containing `cairo.pc'\n",
      "    to the PKG_CONFIG_PATH environment variable\n",
      "    Package 'cairo', required by 'virtual:world', not found\n",
      "    Command '['pkg-config', '--print-errors', '--exists', 'cairo >= 1.15.10']' returned non-zero exit status 1.\n",
      "    ----------------------------------------\n",
      "    ERROR: Failed building wheel for pycairo\n",
      "  Failed to build pycairo\n",
      "  ERROR: Could not build wheels for pycairo which use PEP 517 and cannot be installed directly\n",
      "  ----------------------------------------\u001b[0m\n",
      "\u001b[33mWARNING: Discarding https://files.pythonhosted.org/packages/a0/fa/0cfaa64ad7a4cd94fd74b698fcc8987ed780fce1651fecc6604f86f604cd/PyGObject-3.40.0.tar.gz#sha256=98d83f71e6313dadc29793450fec23b2eaa5c3f1c4b073d0a4f9c31b5cdb5fca (from https://pypi.org/simple/pygobject/) (requires-python:>=3.6, <4). Command errored out with exit status 1: /opt/conda/envs/Python-3.9/bin/python /tmp/wsuser/pip-standalone-pip-6jz5e22z/__env_pip__.zip/pip install --ignore-installed --no-user --prefix /tmp/wsuser/pip-build-env-6_7hdgvd/overlay --no-warn-script-location --no-binary :none: --only-binary :none: -i https://pypi.org/simple -- setuptools wheel pycairo Check the logs for full command output.\u001b[0m\n",
      "\u001b[?25h  Downloading PyGObject-3.38.0.tar.gz (712 kB)\n",
      "\u001b[K     |████████████████████████████████| 712 kB 38.4 MB/s eta 0:00:01\n",
      "\u001b[?25h  Installing build dependencies ... \u001b[?25lerror\n",
      "\u001b[31m  ERROR: Command errored out with exit status 1:\n",
      "   command: /opt/conda/envs/Python-3.9/bin/python /tmp/wsuser/pip-standalone-pip-h2x28x3g/__env_pip__.zip/pip install --ignore-installed --no-user --prefix /tmp/wsuser/pip-build-env-xv9hjs9n/overlay --no-warn-script-location --no-binary :none: --only-binary :none: -i https://pypi.org/simple -- setuptools wheel pycairo\n",
      "       cwd: None\n",
      "  Complete output (38 lines):\n",
      "  Collecting setuptools\n",
      "    Using cached setuptools-65.5.1-py3-none-any.whl (1.2 MB)\n",
      "  Collecting wheel\n",
      "    Using cached wheel-0.38.4-py3-none-any.whl (36 kB)\n",
      "  Collecting pycairo\n",
      "    Using cached pycairo-1.21.0.tar.gz (340 kB)\n",
      "    Installing build dependencies: started\n",
      "    Installing build dependencies: finished with status 'done'\n",
      "    Getting requirements to build wheel: started\n",
      "    Getting requirements to build wheel: finished with status 'done'\n",
      "      Preparing wheel metadata: started\n",
      "      Preparing wheel metadata: finished with status 'done'\n",
      "  Building wheels for collected packages: pycairo\n",
      "    Building wheel for pycairo (PEP 517): started\n",
      "    Building wheel for pycairo (PEP 517): finished with status 'error'\n",
      "    ERROR: Command errored out with exit status 1:\n",
      "     command: /opt/conda/envs/Python-3.9/bin/python /tmp/wsuser/tmprvky_koj_in_process.py build_wheel /tmp/wsuser/tmp6hmoleo0\n",
      "         cwd: /tmp/wsuser/pip-install-pusq3qk1/pycairo_ee979114e653462197d7062856ffd7ee\n",
      "    Complete output (15 lines):\n",
      "    running bdist_wheel\n",
      "    running build\n",
      "    running build_py\n",
      "    creating build\n",
      "    creating build/lib.linux-x86_64-cpython-39\n",
      "    creating build/lib.linux-x86_64-cpython-39/cairo\n",
      "    copying cairo/__init__.py -> build/lib.linux-x86_64-cpython-39/cairo\n",
      "    copying cairo/__init__.pyi -> build/lib.linux-x86_64-cpython-39/cairo\n",
      "    copying cairo/py.typed -> build/lib.linux-x86_64-cpython-39/cairo\n",
      "    running build_ext\n",
      "    Package cairo was not found in the pkg-config search path.\n",
      "    Perhaps you should add the directory containing `cairo.pc'\n",
      "    to the PKG_CONFIG_PATH environment variable\n",
      "    Package 'cairo', required by 'virtual:world', not found\n",
      "    Command '['pkg-config', '--print-errors', '--exists', 'cairo >= 1.15.10']' returned non-zero exit status 1.\n",
      "    ----------------------------------------\n",
      "    ERROR: Failed building wheel for pycairo\n",
      "  Failed to build pycairo\n",
      "  ERROR: Could not build wheels for pycairo which use PEP 517 and cannot be installed directly\n",
      "  ----------------------------------------\u001b[0m\n",
      "\u001b[33mWARNING: Discarding https://files.pythonhosted.org/packages/3a/a7/de282a4aaedba59d60a895a7821e6497b39cbdfa94a352776ff45ffc6e6f/PyGObject-3.38.0.tar.gz#sha256=051b950f509f2e9f125add96c1493bde987c527f7a0c15a1f7b69d6d1c3cd8e6 (from https://pypi.org/simple/pygobject/) (requires-python:>=3.5, <4). Command errored out with exit status 1: /opt/conda/envs/Python-3.9/bin/python /tmp/wsuser/pip-standalone-pip-h2x28x3g/__env_pip__.zip/pip install --ignore-installed --no-user --prefix /tmp/wsuser/pip-build-env-xv9hjs9n/overlay --no-warn-script-location --no-binary :none: --only-binary :none: -i https://pypi.org/simple -- setuptools wheel pycairo Check the logs for full command output.\u001b[0m\n",
      "\u001b[?25h  Downloading PyGObject-3.36.1.tar.gz (716 kB)\n",
      "\u001b[K     |████████████████████████████████| 716 kB 58.2 MB/s eta 0:00:01\n",
      "\u001b[?25h  Installing build dependencies ... \u001b[?25lerror\n",
      "\u001b[31m  ERROR: Command errored out with exit status 1:\n",
      "   command: /opt/conda/envs/Python-3.9/bin/python /tmp/wsuser/pip-standalone-pip-utcgu2y3/__env_pip__.zip/pip install --ignore-installed --no-user --prefix /tmp/wsuser/pip-build-env-kmc2o59p/overlay --no-warn-script-location --no-binary :none: --only-binary :none: -i https://pypi.org/simple -- setuptools wheel pycairo\n",
      "       cwd: None\n",
      "  Complete output (38 lines):\n",
      "  Collecting setuptools\n",
      "    Using cached setuptools-65.5.1-py3-none-any.whl (1.2 MB)\n",
      "  Collecting wheel\n",
      "    Using cached wheel-0.38.4-py3-none-any.whl (36 kB)\n",
      "  Collecting pycairo\n",
      "    Using cached pycairo-1.21.0.tar.gz (340 kB)\n",
      "    Installing build dependencies: started\n",
      "    Installing build dependencies: finished with status 'done'\n",
      "    Getting requirements to build wheel: started\n",
      "    Getting requirements to build wheel: finished with status 'done'\n",
      "      Preparing wheel metadata: started\n",
      "      Preparing wheel metadata: finished with status 'done'\n",
      "  Building wheels for collected packages: pycairo\n",
      "    Building wheel for pycairo (PEP 517): started\n",
      "    Building wheel for pycairo (PEP 517): finished with status 'error'\n",
      "    ERROR: Command errored out with exit status 1:\n",
      "     command: /opt/conda/envs/Python-3.9/bin/python /tmp/wsuser/tmpbn0c6t2p_in_process.py build_wheel /tmp/wsuser/tmpsrncjz71\n",
      "         cwd: /tmp/wsuser/pip-install-c6xj0d2d/pycairo_9aee589e2f774ceeae669ae25ae967ad\n",
      "    Complete output (15 lines):\n",
      "    running bdist_wheel\n",
      "    running build\n",
      "    running build_py\n",
      "    creating build\n",
      "    creating build/lib.linux-x86_64-cpython-39\n",
      "    creating build/lib.linux-x86_64-cpython-39/cairo\n",
      "    copying cairo/__init__.py -> build/lib.linux-x86_64-cpython-39/cairo\n",
      "    copying cairo/__init__.pyi -> build/lib.linux-x86_64-cpython-39/cairo\n",
      "    copying cairo/py.typed -> build/lib.linux-x86_64-cpython-39/cairo\n",
      "    running build_ext\n",
      "    Package cairo was not found in the pkg-config search path.\n",
      "    Perhaps you should add the directory containing `cairo.pc'\n",
      "    to the PKG_CONFIG_PATH environment variable\n",
      "    Package 'cairo', required by 'virtual:world', not found\n",
      "    Command '['pkg-config', '--print-errors', '--exists', 'cairo >= 1.15.10']' returned non-zero exit status 1.\n",
      "    ----------------------------------------\n",
      "    ERROR: Failed building wheel for pycairo\n",
      "  Failed to build pycairo\n",
      "  ERROR: Could not build wheels for pycairo which use PEP 517 and cannot be installed directly\n",
      "  ----------------------------------------\u001b[0m\n",
      "\u001b[33mWARNING: Discarding https://files.pythonhosted.org/packages/93/41/bf9ab8929f51dac2979ae81bb094728bacee3ceb049def72d3fc1bcb4241/PyGObject-3.36.1.tar.gz#sha256=012a589aec687bfa809a1ff9f5cd775dc7f6fcec1a6bc7fe88e1002a68f8ba34 (from https://pypi.org/simple/pygobject/) (requires-python:>=2.7, !=3.0.*, !=3.1.*, !=3.2.*, !=3.3.*, !=3.4.*, <4). Command errored out with exit status 1: /opt/conda/envs/Python-3.9/bin/python /tmp/wsuser/pip-standalone-pip-utcgu2y3/__env_pip__.zip/pip install --ignore-installed --no-user --prefix /tmp/wsuser/pip-build-env-kmc2o59p/overlay --no-warn-script-location --no-binary :none: --only-binary :none: -i https://pypi.org/simple -- setuptools wheel pycairo Check the logs for full command output.\u001b[0m\n",
      "\u001b[?25h  Downloading PyGObject-3.36.0.tar.gz (714 kB)\n",
      "\u001b[K     |████████████████████████████████| 714 kB 66.5 MB/s eta 0:00:01\n",
      "\u001b[?25h  Installing build dependencies ... \u001b[?25lerror\n",
      "\u001b[31m  ERROR: Command errored out with exit status 1:\n",
      "   command: /opt/conda/envs/Python-3.9/bin/python /tmp/wsuser/pip-standalone-pip-_39n1cer/__env_pip__.zip/pip install --ignore-installed --no-user --prefix /tmp/wsuser/pip-build-env-ntifvcvj/overlay --no-warn-script-location --no-binary :none: --only-binary :none: -i https://pypi.org/simple -- setuptools wheel pycairo\n",
      "       cwd: None\n",
      "  Complete output (38 lines):\n",
      "  Collecting setuptools\n",
      "    Using cached setuptools-65.5.1-py3-none-any.whl (1.2 MB)\n",
      "  Collecting wheel\n",
      "    Using cached wheel-0.38.4-py3-none-any.whl (36 kB)\n",
      "  Collecting pycairo\n",
      "    Using cached pycairo-1.21.0.tar.gz (340 kB)\n",
      "    Installing build dependencies: started\n",
      "    Installing build dependencies: finished with status 'done'\n",
      "    Getting requirements to build wheel: started\n",
      "    Getting requirements to build wheel: finished with status 'done'\n",
      "      Preparing wheel metadata: started\n",
      "      Preparing wheel metadata: finished with status 'done'\n",
      "  Building wheels for collected packages: pycairo\n",
      "    Building wheel for pycairo (PEP 517): started\n",
      "    Building wheel for pycairo (PEP 517): finished with status 'error'\n",
      "    ERROR: Command errored out with exit status 1:\n",
      "     command: /opt/conda/envs/Python-3.9/bin/python /tmp/wsuser/tmpmvnl7yum_in_process.py build_wheel /tmp/wsuser/tmpjrjxxj86\n",
      "         cwd: /tmp/wsuser/pip-install-9p43s_kb/pycairo_4e1056e04593421ead04d7dc96ed32f6\n",
      "    Complete output (15 lines):\n",
      "    running bdist_wheel\n",
      "    running build\n",
      "    running build_py\n",
      "    creating build\n",
      "    creating build/lib.linux-x86_64-cpython-39\n",
      "    creating build/lib.linux-x86_64-cpython-39/cairo\n",
      "    copying cairo/__init__.py -> build/lib.linux-x86_64-cpython-39/cairo\n",
      "    copying cairo/__init__.pyi -> build/lib.linux-x86_64-cpython-39/cairo\n",
      "    copying cairo/py.typed -> build/lib.linux-x86_64-cpython-39/cairo\n",
      "    running build_ext\n",
      "    Package cairo was not found in the pkg-config search path.\n",
      "    Perhaps you should add the directory containing `cairo.pc'\n",
      "    to the PKG_CONFIG_PATH environment variable\n",
      "    Package 'cairo', required by 'virtual:world', not found\n",
      "    Command '['pkg-config', '--print-errors', '--exists', 'cairo >= 1.15.10']' returned non-zero exit status 1.\n",
      "    ----------------------------------------\n",
      "    ERROR: Failed building wheel for pycairo\n",
      "  Failed to build pycairo\n",
      "  ERROR: Could not build wheels for pycairo which use PEP 517 and cannot be installed directly\n",
      "  ----------------------------------------\u001b[0m\n",
      "\u001b[33mWARNING: Discarding https://files.pythonhosted.org/packages/3e/b5/f4fd3351ed074aeeae30bff71428f38bc42187e34c44913239a9dc85a7fc/PyGObject-3.36.0.tar.gz#sha256=b97f570e55017fcd3732164811f24ecf63983a4834f61b55b0aaf64ecefac856 (from https://pypi.org/simple/pygobject/) (requires-python:>=2.7, !=3.0.*, !=3.1.*, !=3.2.*, !=3.3.*, !=3.4.*, <4). Command errored out with exit status 1: /opt/conda/envs/Python-3.9/bin/python /tmp/wsuser/pip-standalone-pip-_39n1cer/__env_pip__.zip/pip install --ignore-installed --no-user --prefix /tmp/wsuser/pip-build-env-ntifvcvj/overlay --no-warn-script-location --no-binary :none: --only-binary :none: -i https://pypi.org/simple -- setuptools wheel pycairo Check the logs for full command output.\u001b[0m\n",
      "\u001b[?25h  Downloading PyGObject-3.34.0.tar.gz (699 kB)\n",
      "\u001b[K     |████████████████████████████████| 699 kB 57.4 MB/s eta 0:00:01\n",
      "\u001b[?25h  Installing build dependencies ... \u001b[?25lerror\n",
      "\u001b[31m  ERROR: Command errored out with exit status 1:\n",
      "   command: /opt/conda/envs/Python-3.9/bin/python /tmp/wsuser/pip-standalone-pip-62lfrrwt/__env_pip__.zip/pip install --ignore-installed --no-user --prefix /tmp/wsuser/pip-build-env-w_5uvqoa/overlay --no-warn-script-location --no-binary :none: --only-binary :none: -i https://pypi.org/simple -- setuptools wheel pycairo\n",
      "       cwd: None\n",
      "  Complete output (38 lines):\n",
      "  Collecting setuptools\n",
      "    Using cached setuptools-65.5.1-py3-none-any.whl (1.2 MB)\n",
      "  Collecting wheel\n",
      "    Using cached wheel-0.38.4-py3-none-any.whl (36 kB)\n",
      "  Collecting pycairo\n",
      "    Using cached pycairo-1.21.0.tar.gz (340 kB)\n",
      "    Installing build dependencies: started\n",
      "    Installing build dependencies: finished with status 'done'\n",
      "    Getting requirements to build wheel: started\n",
      "    Getting requirements to build wheel: finished with status 'done'\n",
      "      Preparing wheel metadata: started\n",
      "      Preparing wheel metadata: finished with status 'done'\n",
      "  Building wheels for collected packages: pycairo\n",
      "    Building wheel for pycairo (PEP 517): started\n",
      "    Building wheel for pycairo (PEP 517): finished with status 'error'\n",
      "    ERROR: Command errored out with exit status 1:\n",
      "     command: /opt/conda/envs/Python-3.9/bin/python /tmp/wsuser/tmpjkryarup_in_process.py build_wheel /tmp/wsuser/tmpy7low2cn\n",
      "         cwd: /tmp/wsuser/pip-install-546gq7ve/pycairo_830bac311023487993b77f80ea531ad1\n",
      "    Complete output (15 lines):\n",
      "    running bdist_wheel\n",
      "    running build\n",
      "    running build_py\n",
      "    creating build\n",
      "    creating build/lib.linux-x86_64-cpython-39\n",
      "    creating build/lib.linux-x86_64-cpython-39/cairo\n",
      "    copying cairo/__init__.py -> build/lib.linux-x86_64-cpython-39/cairo\n",
      "    copying cairo/__init__.pyi -> build/lib.linux-x86_64-cpython-39/cairo\n",
      "    copying cairo/py.typed -> build/lib.linux-x86_64-cpython-39/cairo\n",
      "    running build_ext\n",
      "    Package cairo was not found in the pkg-config search path.\n",
      "    Perhaps you should add the directory containing `cairo.pc'\n",
      "    to the PKG_CONFIG_PATH environment variable\n",
      "    Package 'cairo', required by 'virtual:world', not found\n",
      "    Command '['pkg-config', '--print-errors', '--exists', 'cairo >= 1.15.10']' returned non-zero exit status 1.\n",
      "    ----------------------------------------\n",
      "    ERROR: Failed building wheel for pycairo\n",
      "  Failed to build pycairo\n",
      "  ERROR: Could not build wheels for pycairo which use PEP 517 and cannot be installed directly\n",
      "  ----------------------------------------\u001b[0m\n",
      "\u001b[33mWARNING: Discarding https://files.pythonhosted.org/packages/46/8a/b183f3edc812d4d28c8b671a922b5bc2863be5d38c56b3ad9155815e78dd/PyGObject-3.34.0.tar.gz#sha256=2acb0daf2b3a23a90f52066cc23d1053339fee2f5f7f4275f8baa3704ae0c543 (from https://pypi.org/simple/pygobject/) (requires-python:>=2.7, !=3.0.*, !=3.1.*, !=3.2.*, !=3.3.*, !=3.4.*, <4). Command errored out with exit status 1: /opt/conda/envs/Python-3.9/bin/python /tmp/wsuser/pip-standalone-pip-62lfrrwt/__env_pip__.zip/pip install --ignore-installed --no-user --prefix /tmp/wsuser/pip-build-env-w_5uvqoa/overlay --no-warn-script-location --no-binary :none: --only-binary :none: -i https://pypi.org/simple -- setuptools wheel pycairo Check the logs for full command output.\u001b[0m\n",
      "\u001b[?25h  Downloading PyGObject-3.32.2.tar.gz (698 kB)\n",
      "\u001b[K     |████████████████████████████████| 698 kB 39.5 MB/s eta 0:00:01\n",
      "^C\n",
      "\u001b[?25h  Installing build dependencies ... \u001b[?25l\u001b[?25hcanceled\n",
      "\u001b[31mERROR: Operation cancelled by user\u001b[0m\n",
      "Note: you may need to restart the kernel to use updated packages.\n"
     ]
    }
   ],
   "source": [
    "pip install pygobject"
   ]
  },
  {
   "cell_type": "code",
   "execution_count": 115,
   "metadata": {
    "id": "gNk05hlpgGrJ"
   },
   "outputs": [],
   "source": [
    "def message(val):\n",
    "  if val==1:\n",
    "    from twilio.rest import Client\n",
    "    print('Forest fire')\n",
    "    account_sid='ACfb4e6d0e7b0d25def63044919f1b96e3'\n",
    "    auth_token='f9ae4fc4a617a527da8672e97eefb2d8'\n",
    "    client=Client(account_sid,auth_token)\n",
    "    message=client.messages \\\n",
    "     .create(\n",
    "        body='forest fire is detected, stay alert',\n",
    "        #use twilio free number\n",
    "        from_='+1 302 248 4366',\n",
    "        #to number\n",
    "        to='+91 99400 12164')\n",
    "    print(message.sid)\n",
    "    print(\"Fire detected\")\n",
    "    print(\"SMS Sent!\")\n",
    "  elif val==0:\n",
    "    print('No Fire')"
   ]
  },
  {
   "cell_type": "code",
   "execution_count": 116,
   "metadata": {
    "colab": {
     "base_uri": "https://localhost:8080/",
     "height": 357
    },
    "id": "XdEJg6nS8Vst",
    "outputId": "d211f2c7-cdaa-41c6-faec-d503e1a17520"
   },
   "outputs": [
    {
     "name": "stdout",
     "output_type": "stream",
     "text": [
      "WARNING:tensorflow:6 out of the last 13 calls to <function Model.make_predict_function.<locals>.predict_function at 0x7f984fe36820> triggered tf.function retracing. Tracing is expensive and the excessive number of tracings could be due to (1) creating @tf.function repeatedly in a loop, (2) passing tensors with different shapes, (3) passing Python objects instead of tensors. For (1), please define your @tf.function outside of the loop. For (2), @tf.function has experimental_relax_shapes=True option that relaxes argument shapes that can avoid unnecessary retracing. For (3), please refer to https://www.tensorflow.org/guide/function#controlling_retracing and https://www.tensorflow.org/api_docs/python/tf/function for  more details.\n"
     ]
    },
    {
     "data": {
      "image/png": "[encoded data removed]",
      "text/plain": [
       "<Figure size 432x288 with 1 Axes>"
      ]
     },
     "metadata": {
      "needs_background": "light"
     },
     "output_type": "display_data"
    },
    {
     "name": "stdout",
     "output_type": "stream",
     "text": [
      "Forest fire\n",
      "SM90c5f1e42f00ef91e0d7497f8db60527\n",
      "Fire detected\n",
      "SMS Sent!\n"
     ]
    }
   ],
   "source": [
    "from matplotlib import pyplot as plt\n",
    "#import load model from keras.model\n",
    "from keras.models import load_model\n",
    "#import image from keras\n",
    "from tensorflow.keras.preprocessing import image\n",
    "img1 = image.load_img('/home/wsuser/work/Dataset/test_set/with fire/Wild_fires.jpg',target_size=(64,64))\n",
    "Y = image.img_to_array(img1)\n",
    "x = np.expand_dims(Y,axis=0)\n",
    "val = model.predict(x)\n",
    "plt.imshow(img1)\n",
    "plt.show()\n",
    "message(val)"
   ]
  },
  {
   "cell_type": "code",
   "execution_count": 117,
   "metadata": {
    "colab": {
     "base_uri": "https://localhost:8080/",
     "height": 304
    },
    "id": "ptRszgf3ToP2",
    "outputId": "a33afc1f-9344-4a0e-ebe3-9248d41811b7"
   },
   "outputs": [
    {
     "data": {
      "image/png": "[encoded data removed]",
      "text/plain": [
       "<Figure size 432x288 with 1 Axes>"
      ]
     },
     "metadata": {
      "needs_background": "light"
     },
     "output_type": "display_data"
    },
    {
     "name": "stdout",
     "output_type": "stream",
     "text": [
      "No Fire\n"
     ]
    }
   ],
   "source": [
    "img2 = image.load_img('/home/wsuser/work/Dataset/test_set/forest/1200px_Mountainarea.jpg',target_size=(64,64))\n",
    "Y = image.img_to_array(img2)\n",
    "x = np.expand_dims(Y,axis=0)\n",
    "val = model.predict(x)\n",
    "plt.imshow(img2)\n",
    "plt.show()\n",
    "message(val)"
   ]
  },
  {
   "cell_type": "code",
   "execution_count": 119,
   "metadata": {},
   "outputs": [],
   "source": [
    "from ibm_watson_machine_learning import APIClient\n",
    "wml_credentials={\"url\":\"https://us-south.ml.cloud.ibm.com\",\"apikey\":\"TFXoHzN3M76f8UM68mdo_MshGtF2Dk1H56fJ67oDagbV\"}\n",
    "client=APIClient(wml_credentials)"
   ]
  },
  {
   "cell_type": "code",
   "execution_count": 120,
   "metadata": {},
   "outputs": [],
   "source": [
    "def guid_from_space_name(client,space_name):\n",
    "    space=client.spaces.get_details()\n",
    "    return(next(item for item in space['resources']if item['entity'][\"name\"]==space_name)['metadata']['id'])"
   ]
  },
  {
   "cell_type": "code",
   "execution_count": 121,
   "metadata": {},
   "outputs": [
    {
     "name": "stdout",
     "output_type": "stream",
     "text": [
      "Space UID= 1f4924ef-b4eb-471f-a528-7b437fc3efb9\n"
     ]
    }
   ],
   "source": [
    "space_uid=guid_from_space_name(client,'imageclassification')\n",
    "print(\"Space UID= \"+space_uid)"
   ]
  },
  {
   "cell_type": "code",
   "execution_count": 122,
   "metadata": {},
   "outputs": [
    {
     "data": {
      "text/plain": [
       "'SUCCESS'"
      ]
     },
     "execution_count": 122,
     "metadata": {},
     "output_type": "execute_result"
    }
   ],
   "source": [
    "client.set.default_space(space_uid)"
   ]
  },
  {
   "cell_type": "code",
   "execution_count": 123,
   "metadata": {},
   "outputs": [
    {
     "name": "stdout",
     "output_type": "stream",
     "text": [
      "-----------------------------  ------------------------------------  ----\n",
      "NAME                           ASSET_ID                              TYPE\n",
      "default_py3.6                  0062b8c9-8b7d-44a0-a9b9-46c416adcbd9  base\n",
      "kernel-spark3.2-scala2.12      020d69ce-7ac1-5e68-ac1a-31189867356a  base\n",
      "pytorch-onnx_1.3-py3.7-edt     069ea134-3346-5748-b513-49120e15d288  base\n",
      "scikit-learn_0.20-py3.6        09c5a1d0-9c1e-4473-a344-eb7b665ff687  base\n",
      "spark-mllib_3.0-scala_2.12     09f4cff0-90a7-5899-b9ed-1ef348aebdee  base\n",
      "pytorch-onnx_rt22.1-py3.9      0b848dd4-e681-5599-be41-b5f6fccc6471  base\n",
      "ai-function_0.1-py3.6          0cdb0f1e-5376-4f4d-92dd-da3b69aa9bda  base\n",
      "shiny-r3.6                     0e6e79df-875e-4f24-8ae9-62dcc2148306  base\n",
      "tensorflow_2.4-py3.7-horovod   1092590a-307d-563d-9b62-4eb7d64b3f22  base\n",
      "pytorch_1.1-py3.6              10ac12d6-6b30-4ccd-8392-3e922c096a92  base\n",
      "tensorflow_1.15-py3.6-ddl      111e41b3-de2d-5422-a4d6-bf776828c4b7  base\n",
      "autoai-kb_rt22.2-py3.10        125b6d9a-5b1f-5e8d-972a-b251688ccf40  base\n",
      "runtime-22.1-py3.9             12b83a17-24d8-5082-900f-0ab31fbfd3cb  base\n",
      "scikit-learn_0.22-py3.6        154010fa-5b3b-4ac1-82af-4d5ee5abbc85  base\n",
      "default_r3.6                   1b70aec3-ab34-4b87-8aa0-a4a3c8296a36  base\n",
      "pytorch-onnx_1.3-py3.6         1bc6029a-cc97-56da-b8e0-39c3880dbbe7  base\n",
      "kernel-spark3.3-r3.6           1c9e5454-f216-59dd-a20e-474a5cdf5988  base\n",
      "pytorch-onnx_rt22.1-py3.9-edt  1d362186-7ad5-5b59-8b6c-9d0880bde37f  base\n",
      "tensorflow_2.1-py3.6           1eb25b84-d6ed-5dde-b6a5-3fbdf1665666  base\n",
      "spark-mllib_3.2                20047f72-0a98-58c7-9ff5-a77b012eb8f5  base\n",
      "tensorflow_2.4-py3.8-horovod   217c16f6-178f-56bf-824a-b19f20564c49  base\n",
      "runtime-22.1-py3.9-cuda        26215f05-08c3-5a41-a1b0-da66306ce658  base\n",
      "do_py3.8                       295addb5-9ef9-547e-9bf4-92ae3563e720  base\n",
      "autoai-ts_3.8-py3.8            2aa0c932-798f-5ae9-abd6-15e0c2402fb5  base\n",
      "tensorflow_1.15-py3.6          2b73a275-7cbf-420b-a912-eae7f436e0bc  base\n",
      "kernel-spark3.3-py3.9          2b7961e2-e3b1-5a8c-a491-482c8368839a  base\n",
      "pytorch_1.2-py3.6              2c8ef57d-2687-4b7d-acce-01f94976dac1  base\n",
      "spark-mllib_2.3                2e51f700-bca0-4b0d-88dc-5c6791338875  base\n",
      "pytorch-onnx_1.1-py3.6-edt     32983cea-3f32-4400-8965-dde874a8d67e  base\n",
      "spark-mllib_3.0-py37           36507ebe-8770-55ba-ab2a-eafe787600e9  base\n",
      "spark-mllib_2.4                390d21f8-e58b-4fac-9c55-d7ceda621326  base\n",
      "autoai-ts_rt22.2-py3.10        396b2e83-0953-5b86-9a55-7ce1628a406f  base\n",
      "xgboost_0.82-py3.6             39e31acd-5f30-41dc-ae44-60233c80306e  base\n",
      "pytorch-onnx_1.2-py3.6-edt     40589d0e-7019-4e28-8daa-fb03b6f4fe12  base\n",
      "pytorch-onnx_rt22.2-py3.10     40e73f55-783a-5535-b3fa-0c8b94291431  base\n",
      "default_r36py38                41c247d3-45f8-5a71-b065-8580229facf0  base\n",
      "autoai-ts_rt22.1-py3.9         4269d26e-07ba-5d40-8f66-2d495b0c71f7  base\n",
      "autoai-obm_3.0                 42b92e18-d9ab-567f-988a-4240ba1ed5f7  base\n",
      "pmml-3.0_4.3                   493bcb95-16f1-5bc5-bee8-81b8af80e9c7  base\n",
      "spark-mllib_2.4-r_3.6          49403dff-92e9-4c87-a3d7-a42d0021c095  base\n",
      "xgboost_0.90-py3.6             4ff8d6c2-1343-4c18-85e1-689c965304d3  base\n",
      "pytorch-onnx_1.1-py3.6         50f95b2a-bc16-43bb-bc94-b0bed208c60b  base\n",
      "autoai-ts_3.9-py3.8            52c57136-80fa-572e-8728-a5e7cbb42cde  base\n",
      "spark-mllib_2.4-scala_2.11     55a70f99-7320-4be5-9fb9-9edb5a443af5  base\n",
      "spark-mllib_3.0                5c1b0ca2-4977-5c2e-9439-ffd44ea8ffe9  base\n",
      "autoai-obm_2.0                 5c2e37fa-80b8-5e77-840f-d912469614ee  base\n",
      "spss-modeler_18.1              5c3cad7e-507f-4b2a-a9a3-ab53a21dee8b  base\n",
      "cuda-py3.8                     5d3232bf-c86b-5df4-a2cd-7bb870a1cd4e  base\n",
      "autoai-kb_3.1-py3.7            632d4b22-10aa-5180-88f0-f52dfb6444d7  base\n",
      "pytorch-onnx_1.7-py3.8         634d3cdc-b562-5bf9-a2d4-ea90a478456b  base\n",
      "-----------------------------  ------------------------------------  ----\n",
      "Note: Only first 50 records were displayed. To display more use 'limit' parameter.\n"
     ]
    }
   ],
   "source": [
    "client.software_specifications.list()"
   ]
  },
  {
   "cell_type": "code",
   "execution_count": 126,
   "metadata": {},
   "outputs": [
    {
     "data": {
      "text/plain": [
       "'2b73a275-7cbf-420b-a912-eae7f436e0bc'"
      ]
     },
     "execution_count": 126,
     "metadata": {},
     "output_type": "execute_result"
    }
   ],
   "source": [
    "software_spec_uid=client.software_specifications.get_uid_by_name(\"tensorflow_1.15-py3.6\")\n",
    "software_spec_uid"
   ]
  },
  {
   "cell_type": "code",
   "execution_count": 128,
   "metadata": {},
   "outputs": [
    {
     "data": {
      "text/plain": [
       "<module 'tensorflow.keras' from '/opt/conda/envs/Python-3.9/lib/python3.9/site-packages/keras/api/_v2/keras/__init__.py'>"
      ]
     },
     "execution_count": 128,
     "metadata": {},
     "output_type": "execute_result"
    }
   ],
   "source": [
    "keras"
   ]
  }
 ],
 "metadata": {
  "colab": {
   "collapsed_sections": [],
   "provenance": []
  },
  "kernelspec": {
   "display_name": "Python 3.9",
   "language": "python",
   "name": "python3"
  },
  "language_info": {
   "codemirror_mode": {
    "name": "ipython",
    "version": 3
   },
   "file_extension": ".py",
   "mimetype": "text/x-python",
   "name": "python",
   "nbconvert_exporter": "python",
   "pygments_lexer": "ipython3",
   "version": "3.9.13"
  }
 },
 "nbformat": 4,
 "nbformat_minor": 1
}
